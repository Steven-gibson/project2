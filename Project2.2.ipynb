{
 "cells": [
  {
   "cell_type": "code",
   "execution_count": 1,
   "id": "6ed0eded-0d39-45ee-a63b-31d91c7ad1d3",
   "metadata": {},
   "outputs": [],
   "source": [
    "#This is the Multiclass classification\n",
    "#Multiclass classification demo good source to use?"
   ]
  },
  {
   "cell_type": "code",
   "execution_count": 13,
   "id": "5ca6a0e6-42f8-44e3-96c3-a97e3c91f6b4",
   "metadata": {},
   "outputs": [],
   "source": [
    "import os\n",
    "import cv2\n",
    "import numpy as np\n",
    "import tensorflow as tf\n",
    "import matplotlib.pyplot as plt\n",
    "from tensorflow.keras.models import Sequential\n",
    "from tensorflow.keras.layers import Dense\n",
    "from tensorflow.keras.activations import linear, relu, sigmoid\n",
    "from sklearn.model_selection import train_test_split\n",
    "from tensorflow.keras.regularizers import l2\n",
    "from sklearn.preprocessing import StandardScaler\n",
    "from sklearn.ensemble import RandomForestClassifier"
   ]
  },
  {
   "cell_type": "code",
   "execution_count": 14,
   "id": "0b09cdb4-bd18-4b0e-a855-c0dc64165caa",
   "metadata": {},
   "outputs": [],
   "source": [
    "def get_predictions(feature_data):\n",
    "    #run feature data through the trained model to get the linera activations from the output layer\n",
    "    logits = model(feature_data)\n",
    "\n",
    "    #convert the model outputs to probabilities by running through the sigmoid function\n",
    "    logits = sigmoid(logits)\n",
    "    #\n",
    "    prediction_p = tf.nn.softmax(logits)\n",
    "    \n",
    "    prediction_p = np.argmax(prediction_p, axis=1)\n",
    "    return prediction_p"
   ]
  },
  {
   "cell_type": "code",
   "execution_count": 15,
   "id": "6e88fbb5-074d-40f7-a88a-08a3f740a1ab",
   "metadata": {},
   "outputs": [],
   "source": [
    "def calculate_accuracy(labels, pred):\n",
    "    \n",
    "    # Calculate the number of correct predictions by comparing 'labels' and 'predictions'\n",
    "    correct_pred = np.sum(labels == pred)\n",
    "    \n",
    "    # Calculate the total number of predictions\n",
    "    total_pred = len(labels)\n",
    "    \n",
    "    # Calculate the accuracy as a percentage\n",
    "    accuracy_percentage = (correct_pred / total_pred) * 100.0\n",
    "    \n",
    "    print(f\"Accuracy: {accuracy_percentage:.2f}%\")\n",
    "    \n",
    "    "
   ]
  },
  {
   "cell_type": "code",
   "execution_count": 16,
   "id": "33ea2e92-0ffd-4c1d-8b98-f16c52d88336",
   "metadata": {},
   "outputs": [],
   "source": [
    "#num cate = 43\n",
    "def load_data(data_dir, IMG_width, IMG_height, Num_categories):\n",
    "    images = []\n",
    "    labels = []\n",
    "    \n",
    "    #loop folders\n",
    "    for category in range(Num_categories):\n",
    "        category_dir = os.path.join(data_dir, str(category))\n",
    "        \n",
    "        #loop through images in data set\n",
    "        for filename in os.listdir(category_dir):\n",
    "            if filename.endswith(\".ppm\"):\n",
    "                img_path = os.path.join(category_dir, filename)\n",
    "                img = cv2.imread(img_path)\n",
    "                img = cv2.resize(img, (IMG_width, IMG_height))\n",
    "                images.append(img)\n",
    "                labels.append(category)\n",
    "                \n",
    "    return (np.array(images), np.array(labels))"
   ]
  },
  {
   "cell_type": "code",
   "execution_count": 17,
   "id": "893c152c-b54d-4cf2-af62-4ccb32ee3b9b",
   "metadata": {},
   "outputs": [
    {
     "name": "stdout",
     "output_type": "stream",
     "text": [
      "(3150, 30, 30, 3)\n",
      "(3150,)\n",
      "re (3150, 2700)\n"
     ]
    }
   ],
   "source": [
    "data_dir = \"gtsrb\"\n",
    "IMG_height = 30\n",
    "IMG_width = 30\n",
    "#should be 43\n",
    "Num_categories = 3\n",
    "\n",
    "images,labels = load_data(data_dir, IMG_width, IMG_height, Num_categories)\n",
    "\n",
    "print(images.shape)\n",
    "print(labels.shape)\n",
    "\n",
    "reshaped_img = images.reshape(images.shape[0], -1)\n",
    "print(\"re\",reshaped_img.shape)"
   ]
  },
  {
   "cell_type": "code",
   "execution_count": 18,
   "id": "ed93f33e-6cb9-4ebe-af09-64f87bf1421e",
   "metadata": {},
   "outputs": [
    {
     "name": "stdout",
     "output_type": "stream",
     "text": [
      "x (3150, 2700)\n",
      "y (3150,)\n"
     ]
    }
   ],
   "source": [
    "#create Scaler object\n",
    "scaler = StandardScaler()\n",
    "\n",
    "#scale the features\n",
    "X = scaler.fit_transform(reshaped_img)\n",
    "y = labels\n",
    "print(\"x\",X.shape)\n",
    "print(\"y\",y.shape)"
   ]
  },
  {
   "cell_type": "code",
   "execution_count": 19,
   "id": "dfc0977a-f24e-48ee-b93d-90460337f054",
   "metadata": {
    "tags": []
   },
   "outputs": [
    {
     "name": "stdout",
     "output_type": "stream",
     "text": [
      "X_train shape: (1890, 2700)\n",
      "X_test shape: (630, 2700)\n",
      "X_cv shape: (630, 2700)\n",
      "y_train shape: (1890,)\n",
      "y_test shape: (630,)\n",
      "y_cv shape: (630,)\n"
     ]
    }
   ],
   "source": [
    "# split  data into training, CV, test sets\n",
    "X_train, X_test, y_train, y_test = train_test_split(X, y, test_size=0.4, random_state=35)\n",
    "\n",
    "#split test set 50:50 for the CV and test sets\n",
    "X_test, X_cv, y_test, y_cv = train_test_split(X_test, y_test, test_size=0.5)\n",
    "\n",
    "#Print the shapes of the resulting sets\n",
    "print(f\"X_train shape: {X_train.shape}\")\n",
    "print(f\"X_test shape: {X_test.shape}\")\n",
    "print(f\"X_cv shape: {X_cv.shape}\")\n",
    "\n",
    "print(f\"y_train shape: {y_train.shape}\")\n",
    "print(f\"y_test shape: {y_test.shape}\")\n",
    "print(f\"y_cv shape: {y_cv.shape}\")"
   ]
  },
  {
   "cell_type": "code",
   "execution_count": 55,
   "id": "562c3dd5-8ea3-4396-adbe-0cbef39fbe8b",
   "metadata": {},
   "outputs": [],
   "source": [
    "\n",
    "\n",
    "#create model\n",
    "model = Sequential([\n",
    "    tf.keras.Input(shape=(2700,)),\n",
    "    Dense(150, activation='relu', kernel_regularizer=l2(0.02)),\n",
    "    Dense(120, activation='relu', kernel_regularizer=l2(0.02)),\n",
    "    Dense(86, activation='relu', kernel_regularizer=l2(0.02)),\n",
    "    Dense(Num_categories, activation='linear')\n",
    "])\n",
    "  "
   ]
  },
  {
   "cell_type": "code",
   "execution_count": 56,
   "id": "89f3bef5-1edc-4d76-96ab-5963ad604d02",
   "metadata": {},
   "outputs": [
    {
     "name": "stdout",
     "output_type": "stream",
     "text": [
      "Model: \"sequential_3\"\n",
      "_________________________________________________________________\n",
      " Layer (type)                Output Shape              Param #   \n",
      "=================================================================\n",
      " dense_12 (Dense)            (None, 150)               405150    \n",
      "                                                                 \n",
      " dense_13 (Dense)            (None, 120)               18120     \n",
      "                                                                 \n",
      " dense_14 (Dense)            (None, 86)                10406     \n",
      "                                                                 \n",
      " dense_15 (Dense)            (None, 3)                 261       \n",
      "                                                                 \n",
      "=================================================================\n",
      "Total params: 433937 (1.66 MB)\n",
      "Trainable params: 433937 (1.66 MB)\n",
      "Non-trainable params: 0 (0.00 Byte)\n",
      "_________________________________________________________________\n"
     ]
    }
   ],
   "source": [
    "model.summary()"
   ]
  },
  {
   "cell_type": "code",
   "execution_count": 57,
   "id": "a232ec90-2ec7-4389-a54c-63d030587c5d",
   "metadata": {
    "collapsed": true,
    "jupyter": {
     "outputs_hidden": true
    },
    "tags": []
   },
   "outputs": [
    {
     "name": "stdout",
     "output_type": "stream",
     "text": [
      "Epoch 1/100\n",
      "60/60 [==============================] - 1s 7ms/step - loss: 8.3688 - accuracy: 0.7111 - val_loss: 5.7794 - val_accuracy: 0.8349\n",
      "Epoch 2/100\n",
      "60/60 [==============================] - 0s 4ms/step - loss: 4.4481 - accuracy: 0.8423 - val_loss: 3.4173 - val_accuracy: 0.8508\n",
      "Epoch 3/100\n",
      "60/60 [==============================] - 0s 5ms/step - loss: 2.7451 - accuracy: 0.8852 - val_loss: 2.5270 - val_accuracy: 0.7984\n",
      "Epoch 4/100\n",
      "60/60 [==============================] - 0s 5ms/step - loss: 2.0103 - accuracy: 0.8836 - val_loss: 1.7408 - val_accuracy: 0.8810\n",
      "Epoch 5/100\n",
      "60/60 [==============================] - 0s 5ms/step - loss: 1.5610 - accuracy: 0.8836 - val_loss: 1.4648 - val_accuracy: 0.8746\n",
      "Epoch 6/100\n",
      "60/60 [==============================] - 0s 5ms/step - loss: 1.3152 - accuracy: 0.9016 - val_loss: 1.2744 - val_accuracy: 0.8524\n",
      "Epoch 7/100\n",
      "60/60 [==============================] - 0s 5ms/step - loss: 1.1122 - accuracy: 0.8989 - val_loss: 1.1444 - val_accuracy: 0.8349\n",
      "Epoch 8/100\n",
      "60/60 [==============================] - 0s 5ms/step - loss: 1.1751 - accuracy: 0.8566 - val_loss: 1.3689 - val_accuracy: 0.8222\n",
      "Epoch 9/100\n",
      "60/60 [==============================] - 0s 5ms/step - loss: 1.0003 - accuracy: 0.8794 - val_loss: 1.0581 - val_accuracy: 0.8127\n",
      "Epoch 10/100\n",
      "60/60 [==============================] - 0s 5ms/step - loss: 0.8042 - accuracy: 0.9122 - val_loss: 0.8338 - val_accuracy: 0.8762\n",
      "Epoch 11/100\n",
      "60/60 [==============================] - 0s 5ms/step - loss: 0.7242 - accuracy: 0.9212 - val_loss: 1.1001 - val_accuracy: 0.8063\n",
      "Epoch 12/100\n",
      "60/60 [==============================] - 0s 5ms/step - loss: 0.7437 - accuracy: 0.9026 - val_loss: 0.9201 - val_accuracy: 0.8111\n",
      "Epoch 13/100\n",
      "60/60 [==============================] - 0s 5ms/step - loss: 0.6555 - accuracy: 0.9058 - val_loss: 0.8386 - val_accuracy: 0.8127\n",
      "Epoch 14/100\n",
      "60/60 [==============================] - 0s 5ms/step - loss: 0.5973 - accuracy: 0.9217 - val_loss: 0.5582 - val_accuracy: 0.9349\n",
      "Epoch 15/100\n",
      "60/60 [==============================] - 0s 5ms/step - loss: 0.5284 - accuracy: 0.9381 - val_loss: 0.6188 - val_accuracy: 0.8905\n",
      "Epoch 16/100\n",
      "60/60 [==============================] - 0s 5ms/step - loss: 0.5241 - accuracy: 0.9344 - val_loss: 0.6637 - val_accuracy: 0.8556\n",
      "Epoch 17/100\n",
      "60/60 [==============================] - 0s 5ms/step - loss: 0.5619 - accuracy: 0.9021 - val_loss: 0.6086 - val_accuracy: 0.9048\n",
      "Epoch 18/100\n",
      "60/60 [==============================] - 0s 5ms/step - loss: 0.4929 - accuracy: 0.9333 - val_loss: 0.5490 - val_accuracy: 0.9016\n",
      "Epoch 19/100\n",
      "60/60 [==============================] - 0s 5ms/step - loss: 0.5193 - accuracy: 0.9101 - val_loss: 0.5631 - val_accuracy: 0.8968\n",
      "Epoch 20/100\n",
      "60/60 [==============================] - 0s 5ms/step - loss: 0.5279 - accuracy: 0.9127 - val_loss: 0.5045 - val_accuracy: 0.9143\n",
      "Epoch 21/100\n",
      "60/60 [==============================] - 0s 5ms/step - loss: 0.4117 - accuracy: 0.9476 - val_loss: 0.4934 - val_accuracy: 0.8905\n",
      "Epoch 22/100\n",
      "60/60 [==============================] - 0s 5ms/step - loss: 0.4121 - accuracy: 0.9439 - val_loss: 0.5005 - val_accuracy: 0.9016\n",
      "Epoch 23/100\n",
      "60/60 [==============================] - 0s 5ms/step - loss: 0.3843 - accuracy: 0.9407 - val_loss: 0.5259 - val_accuracy: 0.8857\n",
      "Epoch 24/100\n",
      "60/60 [==============================] - 0s 5ms/step - loss: 0.4402 - accuracy: 0.9302 - val_loss: 0.5668 - val_accuracy: 0.8619\n",
      "Epoch 25/100\n",
      "60/60 [==============================] - 0s 5ms/step - loss: 0.5070 - accuracy: 0.9037 - val_loss: 0.6077 - val_accuracy: 0.8508\n",
      "Epoch 26/100\n",
      "60/60 [==============================] - 0s 5ms/step - loss: 0.3801 - accuracy: 0.9524 - val_loss: 0.4910 - val_accuracy: 0.8857\n",
      "Epoch 27/100\n",
      "60/60 [==============================] - 0s 5ms/step - loss: 0.4213 - accuracy: 0.9254 - val_loss: 0.6271 - val_accuracy: 0.8540\n",
      "Epoch 28/100\n",
      "60/60 [==============================] - 0s 5ms/step - loss: 0.5518 - accuracy: 0.8984 - val_loss: 0.5090 - val_accuracy: 0.9079\n",
      "Epoch 29/100\n",
      "60/60 [==============================] - 0s 5ms/step - loss: 0.3926 - accuracy: 0.9471 - val_loss: 0.3726 - val_accuracy: 0.9492\n",
      "Epoch 30/100\n",
      "60/60 [==============================] - 0s 5ms/step - loss: 0.2919 - accuracy: 0.9762 - val_loss: 0.3929 - val_accuracy: 0.9190\n",
      "Epoch 31/100\n",
      "60/60 [==============================] - 0s 5ms/step - loss: 0.3406 - accuracy: 0.9513 - val_loss: 0.5983 - val_accuracy: 0.8730\n",
      "Epoch 32/100\n",
      "60/60 [==============================] - 0s 5ms/step - loss: 0.3349 - accuracy: 0.9571 - val_loss: 0.5123 - val_accuracy: 0.8794\n",
      "Epoch 33/100\n",
      "60/60 [==============================] - 0s 5ms/step - loss: 0.3863 - accuracy: 0.9365 - val_loss: 0.4375 - val_accuracy: 0.9079\n",
      "Epoch 34/100\n",
      "60/60 [==============================] - 0s 5ms/step - loss: 0.3001 - accuracy: 0.9698 - val_loss: 0.3597 - val_accuracy: 0.9333\n",
      "Epoch 35/100\n",
      "60/60 [==============================] - 0s 6ms/step - loss: 0.2440 - accuracy: 0.9841 - val_loss: 0.3720 - val_accuracy: 0.9302\n",
      "Epoch 36/100\n",
      "60/60 [==============================] - 0s 6ms/step - loss: 0.2599 - accuracy: 0.9714 - val_loss: 0.5511 - val_accuracy: 0.8619\n",
      "Epoch 37/100\n",
      "60/60 [==============================] - 0s 6ms/step - loss: 0.2954 - accuracy: 0.9566 - val_loss: 0.3168 - val_accuracy: 0.9508\n",
      "Epoch 38/100\n",
      "60/60 [==============================] - 0s 6ms/step - loss: 0.2523 - accuracy: 0.9741 - val_loss: 0.3328 - val_accuracy: 0.9286\n",
      "Epoch 39/100\n",
      "60/60 [==============================] - 0s 5ms/step - loss: 0.3487 - accuracy: 0.9392 - val_loss: 0.6493 - val_accuracy: 0.8556\n",
      "Epoch 40/100\n",
      "60/60 [==============================] - 0s 5ms/step - loss: 0.3551 - accuracy: 0.9413 - val_loss: 0.3622 - val_accuracy: 0.9143\n",
      "Epoch 41/100\n",
      "60/60 [==============================] - 0s 5ms/step - loss: 0.2931 - accuracy: 0.9587 - val_loss: 0.4039 - val_accuracy: 0.9048\n",
      "Epoch 42/100\n",
      "60/60 [==============================] - 0s 5ms/step - loss: 0.2514 - accuracy: 0.9746 - val_loss: 0.3608 - val_accuracy: 0.9127\n",
      "Epoch 43/100\n",
      "60/60 [==============================] - 0s 7ms/step - loss: 0.4124 - accuracy: 0.9360 - val_loss: 0.5787 - val_accuracy: 0.8921\n",
      "Epoch 44/100\n",
      "60/60 [==============================] - 0s 5ms/step - loss: 0.3662 - accuracy: 0.9444 - val_loss: 0.3562 - val_accuracy: 0.9381\n",
      "Epoch 45/100\n",
      "60/60 [==============================] - 0s 5ms/step - loss: 0.3305 - accuracy: 0.9524 - val_loss: 0.4286 - val_accuracy: 0.9190\n",
      "Epoch 46/100\n",
      "60/60 [==============================] - 0s 7ms/step - loss: 0.2548 - accuracy: 0.9783 - val_loss: 0.3182 - val_accuracy: 0.9444\n",
      "Epoch 47/100\n",
      "60/60 [==============================] - 0s 6ms/step - loss: 0.2506 - accuracy: 0.9704 - val_loss: 0.3132 - val_accuracy: 0.9460\n",
      "Epoch 48/100\n",
      "60/60 [==============================] - 0s 5ms/step - loss: 0.2377 - accuracy: 0.9783 - val_loss: 0.3161 - val_accuracy: 0.9397\n",
      "Epoch 49/100\n",
      "60/60 [==============================] - 0s 5ms/step - loss: 0.2704 - accuracy: 0.9561 - val_loss: 0.3458 - val_accuracy: 0.9302\n",
      "Epoch 50/100\n",
      "60/60 [==============================] - 0s 7ms/step - loss: 0.2647 - accuracy: 0.9635 - val_loss: 0.3760 - val_accuracy: 0.9063\n",
      "Epoch 51/100\n",
      "60/60 [==============================] - 0s 7ms/step - loss: 0.3105 - accuracy: 0.9524 - val_loss: 0.3821 - val_accuracy: 0.9079\n",
      "Epoch 52/100\n",
      "60/60 [==============================] - 0s 7ms/step - loss: 0.3648 - accuracy: 0.9349 - val_loss: 0.3361 - val_accuracy: 0.9381\n",
      "Epoch 53/100\n",
      "60/60 [==============================] - 0s 5ms/step - loss: 0.2493 - accuracy: 0.9762 - val_loss: 0.3583 - val_accuracy: 0.9190\n",
      "Epoch 54/100\n",
      "60/60 [==============================] - 0s 6ms/step - loss: 0.2058 - accuracy: 0.9889 - val_loss: 0.3437 - val_accuracy: 0.9333\n",
      "Epoch 55/100\n",
      "60/60 [==============================] - 0s 6ms/step - loss: 0.2529 - accuracy: 0.9598 - val_loss: 0.3685 - val_accuracy: 0.9111\n",
      "Epoch 56/100\n",
      "60/60 [==============================] - 0s 5ms/step - loss: 0.2527 - accuracy: 0.9720 - val_loss: 0.4566 - val_accuracy: 0.8810\n",
      "Epoch 57/100\n",
      "60/60 [==============================] - 0s 6ms/step - loss: 0.5708 - accuracy: 0.8376 - val_loss: 0.4747 - val_accuracy: 0.8778\n",
      "Epoch 58/100\n",
      "60/60 [==============================] - 0s 6ms/step - loss: 0.4073 - accuracy: 0.8915 - val_loss: 0.5506 - val_accuracy: 0.8524\n",
      "Epoch 59/100\n",
      "60/60 [==============================] - 0s 5ms/step - loss: 0.3182 - accuracy: 0.9460 - val_loss: 0.3302 - val_accuracy: 0.9302\n",
      "Epoch 60/100\n",
      "60/60 [==============================] - 0s 5ms/step - loss: 0.2730 - accuracy: 0.9577 - val_loss: 0.5096 - val_accuracy: 0.8746\n",
      "Epoch 61/100\n",
      "60/60 [==============================] - 0s 5ms/step - loss: 0.2444 - accuracy: 0.9762 - val_loss: 0.3693 - val_accuracy: 0.9127\n",
      "Epoch 62/100\n",
      "60/60 [==============================] - 0s 5ms/step - loss: 0.2300 - accuracy: 0.9772 - val_loss: 0.4847 - val_accuracy: 0.8857\n",
      "Epoch 63/100\n",
      "60/60 [==============================] - 0s 5ms/step - loss: 0.3166 - accuracy: 0.9429 - val_loss: 0.4821 - val_accuracy: 0.8841\n",
      "Epoch 64/100\n",
      "60/60 [==============================] - 0s 5ms/step - loss: 0.2223 - accuracy: 0.9810 - val_loss: 0.4889 - val_accuracy: 0.8873\n",
      "Epoch 65/100\n",
      "60/60 [==============================] - 0s 5ms/step - loss: 0.3123 - accuracy: 0.9370 - val_loss: 0.4118 - val_accuracy: 0.8952\n",
      "Epoch 66/100\n",
      "60/60 [==============================] - 0s 5ms/step - loss: 0.3499 - accuracy: 0.9307 - val_loss: 0.5229 - val_accuracy: 0.8746\n",
      "Epoch 67/100\n",
      "60/60 [==============================] - 0s 5ms/step - loss: 0.2670 - accuracy: 0.9651 - val_loss: 0.3092 - val_accuracy: 0.9381\n",
      "Epoch 68/100\n",
      "60/60 [==============================] - 0s 5ms/step - loss: 0.1971 - accuracy: 0.9889 - val_loss: 0.8305 - val_accuracy: 0.8254\n",
      "Epoch 69/100\n",
      "60/60 [==============================] - 0s 5ms/step - loss: 0.4136 - accuracy: 0.9407 - val_loss: 0.3681 - val_accuracy: 0.9222\n",
      "Epoch 70/100\n",
      "60/60 [==============================] - 0s 6ms/step - loss: 0.3070 - accuracy: 0.9540 - val_loss: 0.3258 - val_accuracy: 0.9365\n",
      "Epoch 71/100\n",
      "60/60 [==============================] - 0s 6ms/step - loss: 0.2751 - accuracy: 0.9587 - val_loss: 0.4679 - val_accuracy: 0.8825\n",
      "Epoch 72/100\n",
      "60/60 [==============================] - 0s 5ms/step - loss: 0.3791 - accuracy: 0.9354 - val_loss: 0.3472 - val_accuracy: 0.9254\n",
      "Epoch 73/100\n",
      "60/60 [==============================] - 0s 5ms/step - loss: 0.2227 - accuracy: 0.9783 - val_loss: 0.3341 - val_accuracy: 0.9270\n",
      "Epoch 74/100\n",
      "60/60 [==============================] - 0s 5ms/step - loss: 0.2532 - accuracy: 0.9614 - val_loss: 0.3825 - val_accuracy: 0.9048\n",
      "Epoch 75/100\n",
      "60/60 [==============================] - 0s 6ms/step - loss: 0.2168 - accuracy: 0.9778 - val_loss: 0.4559 - val_accuracy: 0.8984\n",
      "Epoch 76/100\n",
      "60/60 [==============================] - 0s 6ms/step - loss: 0.3172 - accuracy: 0.9386 - val_loss: 0.3071 - val_accuracy: 0.9444\n",
      "Epoch 77/100\n",
      "60/60 [==============================] - 0s 7ms/step - loss: 0.2187 - accuracy: 0.9772 - val_loss: 0.2792 - val_accuracy: 0.9476\n",
      "Epoch 78/100\n",
      "60/60 [==============================] - 0s 6ms/step - loss: 0.2349 - accuracy: 0.9677 - val_loss: 0.4254 - val_accuracy: 0.8921\n",
      "Epoch 79/100\n",
      "60/60 [==============================] - 0s 5ms/step - loss: 0.2286 - accuracy: 0.9656 - val_loss: 0.2880 - val_accuracy: 0.9349\n",
      "Epoch 80/100\n",
      "60/60 [==============================] - 0s 5ms/step - loss: 0.1779 - accuracy: 0.9878 - val_loss: 0.3029 - val_accuracy: 0.9429\n",
      "Epoch 81/100\n",
      "60/60 [==============================] - 0s 5ms/step - loss: 0.1751 - accuracy: 0.9878 - val_loss: 0.3836 - val_accuracy: 0.9222\n",
      "Epoch 82/100\n",
      "60/60 [==============================] - 0s 5ms/step - loss: 0.2622 - accuracy: 0.9624 - val_loss: 0.3912 - val_accuracy: 0.9190\n",
      "Epoch 83/100\n",
      "60/60 [==============================] - 0s 5ms/step - loss: 0.2347 - accuracy: 0.9714 - val_loss: 0.6827 - val_accuracy: 0.8286\n",
      "Epoch 84/100\n",
      "60/60 [==============================] - 0s 6ms/step - loss: 0.2642 - accuracy: 0.9545 - val_loss: 0.8428 - val_accuracy: 0.8127\n",
      "Epoch 85/100\n",
      "60/60 [==============================] - 0s 7ms/step - loss: 0.4006 - accuracy: 0.9212 - val_loss: 0.3705 - val_accuracy: 0.9175\n",
      "Epoch 86/100\n",
      "60/60 [==============================] - 0s 5ms/step - loss: 0.2291 - accuracy: 0.9746 - val_loss: 0.3765 - val_accuracy: 0.9190\n",
      "Epoch 87/100\n",
      "60/60 [==============================] - 0s 5ms/step - loss: 0.2006 - accuracy: 0.9810 - val_loss: 0.3593 - val_accuracy: 0.9095\n",
      "Epoch 88/100\n",
      "60/60 [==============================] - 0s 5ms/step - loss: 0.2086 - accuracy: 0.9746 - val_loss: 0.3084 - val_accuracy: 0.9317\n",
      "Epoch 89/100\n",
      "60/60 [==============================] - 0s 7ms/step - loss: 0.1748 - accuracy: 0.9852 - val_loss: 0.3813 - val_accuracy: 0.9127\n",
      "Epoch 90/100\n",
      "60/60 [==============================] - 0s 5ms/step - loss: 0.2711 - accuracy: 0.9481 - val_loss: 0.4663 - val_accuracy: 0.8857\n",
      "Epoch 91/100\n",
      "60/60 [==============================] - 0s 6ms/step - loss: 0.1915 - accuracy: 0.9820 - val_loss: 0.2741 - val_accuracy: 0.9429\n",
      "Epoch 92/100\n",
      "60/60 [==============================] - 0s 7ms/step - loss: 0.2104 - accuracy: 0.9741 - val_loss: 0.4021 - val_accuracy: 0.8968\n",
      "Epoch 93/100\n",
      "60/60 [==============================] - 0s 7ms/step - loss: 0.3637 - accuracy: 0.9233 - val_loss: 0.2974 - val_accuracy: 0.9413\n",
      "Epoch 94/100\n",
      "60/60 [==============================] - 0s 5ms/step - loss: 0.1964 - accuracy: 0.9852 - val_loss: 0.2880 - val_accuracy: 0.9365\n",
      "Epoch 95/100\n",
      "60/60 [==============================] - 0s 5ms/step - loss: 0.2055 - accuracy: 0.9762 - val_loss: 0.3583 - val_accuracy: 0.9175\n",
      "Epoch 96/100\n",
      "60/60 [==============================] - 0s 5ms/step - loss: 0.2486 - accuracy: 0.9587 - val_loss: 0.4052 - val_accuracy: 0.8905\n",
      "Epoch 97/100\n",
      "60/60 [==============================] - 0s 5ms/step - loss: 0.3492 - accuracy: 0.9333 - val_loss: 0.3309 - val_accuracy: 0.9302\n",
      "Epoch 98/100\n",
      "60/60 [==============================] - 0s 5ms/step - loss: 0.2062 - accuracy: 0.9799 - val_loss: 0.3712 - val_accuracy: 0.9159\n",
      "Epoch 99/100\n",
      "60/60 [==============================] - 0s 6ms/step - loss: 0.1788 - accuracy: 0.9889 - val_loss: 0.4120 - val_accuracy: 0.9016\n",
      "Epoch 100/100\n",
      "60/60 [==============================] - 0s 5ms/step - loss: 0.1620 - accuracy: 0.9905 - val_loss: 0.3053 - val_accuracy: 0.9429\n"
     ]
    }
   ],
   "source": [
    "#compiles data together\n",
    "model.compile(\n",
    "    loss=tf.keras.losses.SparseCategoricalCrossentropy(from_logits=True),\n",
    "    optimizer=tf.keras.optimizers.Adam(learning_rate=0.001),\n",
    "    metrics=['accuracy']\n",
    ")\n",
    "\n",
    "#fit the model\n",
    "history = model.fit(\n",
    "    X_train, y_train,\n",
    "    validation_data=(X_test, y_test),\n",
    "    epochs=100\n",
    ")"
   ]
  },
  {
   "cell_type": "code",
   "execution_count": 58,
   "id": "150b5a3b-6f06-4ec0-aaf3-803e89d736bf",
   "metadata": {
    "tags": []
   },
   "outputs": [],
   "source": [
    "# gathers prediction using softmax\n",
    "preds_train = get_predictions(X_train)\n",
    "preds_test = get_predictions(X_test)\n",
    "preds_cv = get_predictions(X_cv)\n",
    "#print(f\" Largest Prediction index: {np.argmax(preds)}\")\n",
    "#print(f\" Largest Prediction_p index: {np.argmax(prediction_p)}\")"
   ]
  },
  {
   "cell_type": "code",
   "execution_count": 59,
   "id": "ee2c493a-3960-4457-a810-0f1d9c40ce61",
   "metadata": {
    "tags": []
   },
   "outputs": [
    {
     "name": "stdout",
     "output_type": "stream",
     "text": [
      "Accuracy: 98.15%\n",
      "Accuracy: 94.29%\n",
      "Accuracy: 94.76%\n"
     ]
    }
   ],
   "source": [
    "# calculate accuracy\n",
    "calculate_accuracy(y_train, preds_train)\n",
    "calculate_accuracy(y_test, preds_test)\n",
    "calculate_accuracy(y_cv, preds_cv)"
   ]
  },
  {
   "cell_type": "code",
   "execution_count": 60,
   "id": "19feff2a-fd5a-48b3-ab43-3182242fc31a",
   "metadata": {},
   "outputs": [
    {
     "name": "stdout",
     "output_type": "stream",
     "text": [
      "20/20 [==============================] - 0s 3ms/step - loss: 0.2646 - accuracy: 0.9476\n",
      "Test accuracy: 0.9476190209388733\n"
     ]
    }
   ],
   "source": [
    "test_loss, test_acc = model.evaluate(X_cv, y_cv)\n",
    "print(f'Test accuracy: {test_acc}')"
   ]
  },
  {
   "cell_type": "code",
   "execution_count": 61,
   "id": "eb1b6bcc-b790-42e5-9275-c9b1cbbea876",
   "metadata": {},
   "outputs": [
    {
     "data": {
      "image/png": "[encoded data removed]",
      "text/plain": [
       "<Figure size 432x288 with 1 Axes>"
      ]
     },
     "metadata": {
      "needs_background": "light"
     },
     "output_type": "display_data"
    }
   ],
   "source": [
    "#summarize history for loss/ makes graph for train and test loss\n",
    "plt.plot(history.history['loss'])\n",
    "plt.plot(history.history['val_loss'])\n",
    "plt.title('model loss')\n",
    "plt.ylabel('loss')\n",
    "plt.xlabel('epochs')\n",
    "plt.legend(['train', 'Test'], loc='upper right')\n",
    "plt.show()"
   ]
  },
  {
   "cell_type": "code",
   "execution_count": null,
   "id": "e49441da-6228-4584-b9a5-b9d23f0cd1dc",
   "metadata": {},
   "outputs": [],
   "source": []
  }
 ],
 "metadata": {
  "kernelspec": {
   "display_name": "Python 3 (ipykernel)",
   "language": "python",
   "name": "python3"
  },
  "language_info": {
   "codemirror_mode": {
    "name": "ipython",
    "version": 3
   },
   "file_extension": ".py",
   "mimetype": "text/x-python",
   "name": "python",
   "nbconvert_exporter": "python",
   "pygments_lexer": "ipython3",
   "version": "3.9.12"
  }
 },
 "nbformat": 4,
 "nbformat_minor": 5
}
